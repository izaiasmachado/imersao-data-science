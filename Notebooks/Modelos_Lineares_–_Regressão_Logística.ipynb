{
  "nbformat": 4,
  "nbformat_minor": 0,
  "metadata": {
    "colab": {
      "name": "Modelos Lineares – Regressão Logística.ipynb",
      "provenance": [],
      "collapsed_sections": []
    },
    "kernelspec": {
      "name": "python3",
      "display_name": "Python 3"
    }
  },
  "cells": [
    {
      "cell_type": "markdown",
      "metadata": {
        "id": "o4KpTqIJH-D5"
      },
      "source": [
        "# Modelos Lineares\n",
        "\n",
        "---\n",
        "\n",
        "## Regressão Logística\n",
        "\n",
        "(Infelizmente) Não podemos reolver todos os problemas de aprendizagem supervisionada com uma reta. Vejamos o exemplo a seguir"
      ]
    },
    {
      "cell_type": "code",
      "metadata": {
        "colab": {
          "base_uri": "https://localhost:8080/",
          "height": 265
        },
        "id": "Mb9d-2SgH1y6",
        "outputId": "32559a5f-008c-4afa-b1be-88483af98863"
      },
      "source": [
        "%matplotlib inline\n",
        "import matplotlib.pyplot as plt\n",
        "import numpy as np\n",
        "\n",
        "M = np.array([[10], [12], [15], [17], [33], [35], [37], [39]])\n",
        "V = np.array([0, 0, 0, 0, 1, 1, 1, 1])\n",
        "\n",
        "plt.scatter(M, V)\n",
        "plt.grid()"
      ],
      "execution_count": 18,
      "outputs": [
        {
          "output_type": "display_data",
          "data": {
            "image/png": "[encoded data removed]",
            "text/plain": [
              "<Figure size 432x288 with 1 Axes>"
            ]
          },
          "metadata": {
            "tags": [],
            "needs_background": "light"
          }
        }
      ]
    },
    {
      "cell_type": "markdown",
      "metadata": {
        "id": "NTQDIUcoIkQD"
      },
      "source": [
        "Será que dá para traçár uma reta para resolver esse problema?"
      ]
    },
    {
      "cell_type": "code",
      "metadata": {
        "colab": {
          "base_uri": "https://localhost:8080/",
          "height": 282
        },
        "id": "DvkyWTpUIu7f",
        "outputId": "e83265e8-20d8-48c4-91d6-5dea7a8bf7db"
      },
      "source": [
        "from sklearn.linear_model import LinearRegression\n",
        "\n",
        "model = LinearRegression()\n",
        "model.fit(M, V)\n",
        "\n",
        "y_predicted_linear = model.predict(M)\n",
        "plt.scatter(M, V)\n",
        "plt.grid()\n",
        "plt.plot(M, y_predicted_linear, c='r')"
      ],
      "execution_count": 21,
      "outputs": [
        {
          "output_type": "execute_result",
          "data": {
            "text/plain": [
              "[<matplotlib.lines.Line2D at 0x7f848a737e10>]"
            ]
          },
          "metadata": {
            "tags": []
          },
          "execution_count": 21
        },
        {
          "output_type": "display_data",
          "data": {
            "image/png": "[encoded data removed]",
            "text/plain": [
              "<Figure size 432x288 with 1 Axes>"
            ]
          },
          "metadata": {
            "tags": [],
            "needs_background": "light"
          }
        }
      ]
    },
    {
      "cell_type": "markdown",
      "metadata": {
        "id": "NemRu3F5J6ir"
      },
      "source": [
        "# É, não ficou legal... mas por quê?\n",
        "\n",
        "No eixo Y, temos apenas dois valores: 0 e 1. Ou seja, nosso modelo tem de prever um desses valores. Nesse caso, a saída do modelo é *discreta*. Isso é diferente do nosso exemplo anterior, onde tínhamos uma saída *contínua*. Isso quer dizer que lidamos com um problema de **classificação**!"
      ]
    },
    {
      "cell_type": "markdown",
      "metadata": {
        "id": "CJm0wXCqKReE"
      },
      "source": [
        "# Tá, o problema é outro agora, mas como que resolve?\n",
        "\n",
        "Bom, nesse caso, teremos de usar outro tipo de função que não seja a linear. Para isso, usaremos a **Função Logística**!\n",
        "\n",
        "\n",
        "\\begin{equation}\n",
        "  ŷ = \\frac{1}{1 + e^{-(b + w x)}}\n",
        "\\end{equation}"
      ]
    },
    {
      "cell_type": "code",
      "metadata": {
        "colab": {
          "base_uri": "https://localhost:8080/",
          "height": 282
        },
        "id": "kN0vY2fLKrWB",
        "outputId": "dd1c8d0a-30f7-417b-bcbe-e9c0c0956c2f"
      },
      "source": [
        "from math import exp\n",
        "\n",
        "def logistic_function (w, b, x):\n",
        "  return 1 / (1 + exp(- (b + (w * x))))\n",
        "\n",
        "w = 0.89\n",
        "b = -22.1\n",
        "\n",
        "plt.scatter(M, V)\n",
        "plt.grid()\n",
        "plt.plot(M, [logistic_function(w, b, x) for x in M[:, 0]], c = 'g')\n",
        "plt.plot(M, y_predicted_linear, c='r')"
      ],
      "execution_count": 23,
      "outputs": [
        {
          "output_type": "execute_result",
          "data": {
            "text/plain": [
              "[<matplotlib.lines.Line2D at 0x7f8482a25d68>]"
            ]
          },
          "metadata": {
            "tags": []
          },
          "execution_count": 23
        },
        {
          "output_type": "display_data",
          "data": {
            "image/png": "[encoded data removed]",
            "text/plain": [
              "<Figure size 432x288 with 1 Axes>"
            ]
          },
          "metadata": {
            "tags": [],
            "needs_background": "light"
          }
        }
      ]
    },
    {
      "cell_type": "markdown",
      "metadata": {
        "id": "GOPlLmJcLKWY"
      },
      "source": [
        "# Opa, agora ficou legal!\n",
        "\n",
        "Assim como a Regressão Linera, a **Regressão Logística** também pode ser mapeada para um problema de otimização para encontrar o menor erro para $w$ e $b$. A prova é TRIVIAL (só que não) e análoga à do gradiente descendente Regressão Linear. Deixamos como exercício pesquisar sobre ela.\n",
        "\n",
        "Agora, vamos a parte que interessa: como usar a biblioteca!"
      ]
    },
    {
      "cell_type": "code",
      "metadata": {
        "colab": {
          "base_uri": "https://localhost:8080/"
        },
        "id": "9lKeBEuLLip9",
        "outputId": "43bbbb85-da88-4371-bfaf-4e8e20167265"
      },
      "source": [
        "from sklearn.linear_model import LogisticRegression\n",
        "model = LogisticRegression(penalty=\"l2\", C=1e42) # desabilita a regularização\n",
        "model.fit(M, V)"
      ],
      "execution_count": 24,
      "outputs": [
        {
          "output_type": "execute_result",
          "data": {
            "text/plain": [
              "LogisticRegression(C=1e+42, class_weight=None, dual=False, fit_intercept=True,\n",
              "                   intercept_scaling=1, l1_ratio=None, max_iter=100,\n",
              "                   multi_class='auto', n_jobs=None, penalty='l2',\n",
              "                   random_state=None, solver='lbfgs', tol=0.0001, verbose=0,\n",
              "                   warm_start=False)"
            ]
          },
          "metadata": {
            "tags": []
          },
          "execution_count": 24
        }
      ]
    },
    {
      "cell_type": "markdown",
      "metadata": {
        "id": "KGAWPQ_1Ls9k"
      },
      "source": [
        "Vamos ver se fica legal?"
      ]
    },
    {
      "cell_type": "code",
      "metadata": {
        "colab": {
          "base_uri": "https://localhost:8080/",
          "height": 282
        },
        "id": "rVE6I28dLudh",
        "outputId": "4527590a-b5d9-4ffe-9e6b-8db98d6fa31e"
      },
      "source": [
        "y_predicted = model.predict(M)\n",
        "plt.scatter(M, V)\n",
        "plt.grid()\n",
        "plt.plot(M, y_predicted, c='g')\n",
        "plt.plot(M, y_predicted_linear, c='r')"
      ],
      "execution_count": 25,
      "outputs": [
        {
          "output_type": "execute_result",
          "data": {
            "text/plain": [
              "[<matplotlib.lines.Line2D at 0x7f84829a78d0>]"
            ]
          },
          "metadata": {
            "tags": []
          },
          "execution_count": 25
        },
        {
          "output_type": "display_data",
          "data": {
            "image/png": "[encoded data removed]",
            "text/plain": [
              "<Figure size 432x288 with 1 Axes>"
            ]
          },
          "metadata": {
            "tags": [],
            "needs_background": "light"
          }
        }
      ]
    },
    {
      "cell_type": "code",
      "metadata": {
        "colab": {
          "base_uri": "https://localhost:8080/"
        },
        "id": "bsqwMVzEL-v9",
        "outputId": "223442bc-c982-42c9-f9ff-124c018d54bc"
      },
      "source": [
        "model.coef_, model.intercept_"
      ],
      "execution_count": 26,
      "outputs": [
        {
          "output_type": "execute_result",
          "data": {
            "text/plain": [
              "(array([[1.6457558]]), array([-41.68541944]))"
            ]
          },
          "metadata": {
            "tags": []
          },
          "execution_count": 26
        }
      ]
    },
    {
      "cell_type": "markdown",
      "metadata": {
        "id": "099sZvRRL6yh"
      },
      "source": [
        "# Tá, mas estamos falando de modelos lineares. A função logística não é uma linha. Que tipo de pegadinha é essa?\n",
        "\n",
        "Não tem pegadinha nenhuma, é só uma questão de *perpectiva*. Se tentarmos visualizar os dados no espaço é como se houvesse uma *linha* separando os conjuntos de dados! Para ser mais algébrico, a função logística define um *hiperplano* que separa os dados!\n",
        "\n",
        "Para ficar mais simples de entender, dê uma olhada na figura abaixo:"
      ]
    },
    {
      "cell_type": "code",
      "metadata": {
        "colab": {
          "base_uri": "https://localhost:8080/",
          "height": 269
        },
        "id": "jaLJNUwzMcVA",
        "outputId": "b01a0e67-7556-40eb-8a79-5b5553e6cdcb"
      },
      "source": [
        "points_x = [x for x in range(10, 41)]\n",
        "\n",
        "line_bias = model.intercept_\n",
        "line_w = model.coef_.T\n",
        "points_y = [(line_w[0] * x + line_bias) for x in points_x]\n",
        "plt.plot(points_x, points_y, 'k')\n",
        "plt.scatter(M, V, c=['b' if v == 0 else 'r' for v in V])\n",
        "\n",
        "plt.plot(M, y_predicted, c='g')\n",
        "\n",
        "plt.xlim((8, 41))\n",
        "plt.ylim((-0.2, 1.2))\n",
        "plt.grid()"
      ],
      "execution_count": 28,
      "outputs": [
        {
          "output_type": "display_data",
          "data": {
            "image/png": "[encoded data removed]",
            "text/plain": [
              "<Figure size 432x288 with 1 Axes>"
            ]
          },
          "metadata": {
            "tags": [],
            "needs_background": "light"
          }
        }
      ]
    },
    {
      "cell_type": "markdown",
      "metadata": {
        "id": "8YJjRPP3NAXF"
      },
      "source": [
        "A linha preta mostra a **superfície de decisão** gerada pela função logística aprendida: tudo o que está à direita da linha é classificado como vermelho, enquanto o que está à esquerda, azul."
      ]
    }
  ]
}