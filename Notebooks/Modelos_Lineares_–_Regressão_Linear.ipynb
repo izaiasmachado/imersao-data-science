{
  "nbformat": 4,
  "nbformat_minor": 0,
  "metadata": {
    "colab": {
      "name": "Modelos Lineares – Regressão Linear.ipynb",
      "provenance": []
    },
    "kernelspec": {
      "name": "python3",
      "display_name": "Python 3"
    }
  },
  "cells": [
    {
      "cell_type": "code",
      "metadata": {
        "colab": {
          "base_uri": "https://localhost:8080/",
          "height": 265
        },
        "id": "sYtGneImyFMz",
        "outputId": "160b56ab-62c0-474b-8407-33c2936f6e0c"
      },
      "source": [
        "%matplotlib inline\n",
        "import matplotlib.pyplot as plt\n",
        "import numpy as np\n",
        "\n",
        "H = np.array([[100],\n",
        "  [110],\n",
        "  [50],\n",
        "  [70],\n",
        "  [80],\n",
        "  [40],\n",
        "  [100],\n",
        "  [55],\n",
        "  [75],\n",
        "  [82]             \n",
        "])\n",
        "\n",
        "P = np.array([400000, 410000, 240000, 300000, 310000, 220000, 390000, 280000, 320000, 330000])\n",
        "\n",
        "plt.scatter(H[:, 0], P)\n",
        "plt.grid()"
      ],
      "execution_count": 2,
      "outputs": [
        {
          "output_type": "display_data",
          "data": {
            "image/png": "[encoded data removed]",
            "text/plain": [
              "<Figure size 432x288 with 1 Axes>"
            ]
          },
          "metadata": {
            "tags": [],
            "needs_background": "light"
          }
        }
      ]
    },
    {
      "cell_type": "markdown",
      "metadata": {
        "id": "Ds0zhpu_yWy2"
      },
      "source": [
        "# Regressão Linear\n",
        "Como você já deve saber, podemos definir uma função para representar nosso **modelo** de dados:\n",
        "\n",
        "\\begin{equation}\n",
        "  y = b + w x\n",
        "\\end{equation}"
      ]
    },
    {
      "cell_type": "code",
      "metadata": {
        "id": "CTV6yTunyrsz"
      },
      "source": [
        "w = 2000\n",
        "b = 200000\n",
        "\n",
        "def predict(w, b, x):\n",
        "  return b + (w * x)"
      ],
      "execution_count": 3,
      "outputs": []
    },
    {
      "cell_type": "markdown",
      "metadata": {
        "id": "f1T0s3D_yzzR"
      },
      "source": [
        "Podemos ter diversas combinações de valores *w* e *b*. A pergunta é: qual usar?\n",
        "\n",
        "Vamos pensar um pouco:\n",
        "- Para cada par (w, b) que escolhamos, geraremos um novo modelo $y$.\n",
        "- Para cada modelo gerado, ele vai estimar valores diferentes para um dado $x_i$.\n",
        "- Essa estimativa terá um **erro** em relação ao valor correto $(y - ŷ)$.\n",
        "- Se eu somar todos os erros de cada $x_i$ de uma combinação (w, b), nós teremos o erro do modelo (w, b) (**E(w, b)**).\n",
        "- Logo, basta achar uma combinação (w, b) que tenha o menor erro possível!\n",
        "\n",
        "### Tá, mas como que faz isso?\n",
        "Isso, jovem, é um problema de **otimização**. A solução varia de acordo com o cálculo que você usa para calcular o erro. Uma métrica de erro muito comum utilizada éo *Erro quadrático*, o qual subtrai $y - ŷ$ e eleva o valor ao quadrado.\n",
        "\n",
        "Há um dito popular que diz *\"É errando que se aprende\"*. Bom, se é assim, então vamos deixar o computador ficar errando os valores e aprender com isso! Como foi dito, isso é um problema de otimização. Para resolvê-lo, utilizamos a técnica do **gradiente descendente**, a qual, após uma série de *abracadabras matemáticos*, chega na seguinte fórmula:\n",
        "\n",
        "\\begin{equation}\n",
        "  w_{k + 1} = w_k - \\alpha(\\frac{2}{N} \\sum_{i = 1}^{N} (- x_i (y - ŷ)))\n",
        "\\end{equation}\n",
        "\n",
        "\\begin{equation}\n",
        "  b_{k + 1} = b_k - \\alpha(\\frac{2}{N} \\sum_{i = 1}^{N} -(y - ŷ))\n",
        "\\end{equation}"
      ]
    },
    {
      "cell_type": "markdown",
      "metadata": {
        "id": "Nxm14j3Z1HDR"
      },
      "source": [
        "A primeira fórmula diz o seguinte: para eu aprender um novo valow $w_{k + 1}$, vou atualizar o valor $w_k$ que eu tenho a partir de um gradiente (somatório entre parênteses) utilizando um fator de aprendizagem $\\alpha$. Esse gradiente vêm do cálculo da função do erro quadrático. O mesmo vale para a segunda fórmula.\n",
        "\n",
        "SInta-se convidado a buscar na internet a demonstração da fórmula. É um conhecimento bem interessante para caso um dia você tenha que implementar seu próprio gradiente."
      ]
    },
    {
      "cell_type": "markdown",
      "metadata": {
        "id": "nNk-foVp1nm7"
      },
      "source": [
        "# Menos papo, mais código!"
      ]
    },
    {
      "cell_type": "code",
      "metadata": {
        "id": "stD0-BmQ1qHS"
      },
      "source": [
        "def gradient_descendent(train_X, train_Y, alpha, w = 0, b = 0):\n",
        "  sum_error = 0\n",
        "  elem_times_error = 0\n",
        "  n = len(train_X)\n",
        "\n",
        "  for x, y in zip(train_X, train_Y):\n",
        "    yhat = predict(w, b, x)\n",
        "    error = y - yhat\n",
        "    sum_error += error\n",
        "    elem_times_error += x * error\n",
        "\n",
        "  b += (2 * (alpha * sum_error) / n)\n",
        "  w += (2 * (alpha * elem_times_error) / n)\n",
        "  return (w, b)"
      ],
      "execution_count": 4,
      "outputs": []
    },
    {
      "cell_type": "markdown",
      "metadata": {
        "id": "4pdrGSbx2I9T"
      },
      "source": [
        "Vamos iniciar nossos valores de $w$ e $b$ como 0 e ver o que temos"
      ]
    },
    {
      "cell_type": "code",
      "metadata": {
        "colab": {
          "base_uri": "https://localhost:8080/",
          "height": 269
        },
        "id": "DfeWWvhS2V_h",
        "outputId": "1af25150-7b96-4c1b-b3df-68ee6af0fbe3"
      },
      "source": [
        "%matplotlib inline\n",
        "import matplotlib.pyplot as plt\n",
        "import numpy as np\n",
        "\n",
        "w = 0\n",
        "b = 0\n",
        "plt.scatter(H[:, 0], P)\n",
        "plt.plot(np.array(H[:, 0]), [predict(w, b, x) for x in H[:, 0]], c = 'r')\n",
        "plt.xlim((20, 120))\n",
        "plt.ylim((0, 500000))\n",
        "plt.grid()"
      ],
      "execution_count": 5,
      "outputs": [
        {
          "output_type": "display_data",
          "data": {
            "image/png": "[encoded data removed]",
            "text/plain": [
              "<Figure size 432x288 with 1 Axes>"
            ]
          },
          "metadata": {
            "tags": [],
            "needs_background": "light"
          }
        }
      ]
    },
    {
      "cell_type": "markdown",
      "metadata": {
        "id": "goRbXdL12wbp"
      },
      "source": [
        "Ok, nosso modelo só estima 0 para todo mundo. Vamos aplicar o cálculo do gradiente descendente uma vez, com um passo de aprendizagem bem pequeno, e ver como que fica"
      ]
    },
    {
      "cell_type": "code",
      "metadata": {
        "colab": {
          "base_uri": "https://localhost:8080/",
          "height": 286
        },
        "id": "Hkwvq09M28X1",
        "outputId": "01877215-dc96-4e9c-9564-ab625b7f0d49"
      },
      "source": [
        "for _ in range(50):\n",
        "  w, b = gradient_descendent(H[:, 0], P, 0.00001, w, b)\n",
        "\n",
        "print(\"w: {}\\tb:{}\".format(w, b))\n",
        "plt.scatter(H[:, 0], P)\n",
        "plt.plot(np.array(H[:, 0]), [predict(w, b, x) for x in H[:, 0]], c='r')\n",
        "plt.xlim((20, 120))\n",
        "plt.ylim((0, 500000))\n",
        "plt.grid()"
      ],
      "execution_count": 6,
      "outputs": [
        {
          "output_type": "stream",
          "text": [
            "w: 4084.467122014723\tb:57.83363231550416\n"
          ],
          "name": "stdout"
        },
        {
          "output_type": "display_data",
          "data": {
            "image/png": "[encoded data removed]",
            "text/plain": [
              "<Figure size 432x288 with 1 Axes>"
            ]
          },
          "metadata": {
            "tags": [],
            "needs_background": "light"
          }
        }
      ]
    },
    {
      "cell_type": "markdown",
      "metadata": {
        "id": "2y1m9oM63bld"
      },
      "source": [
        "Já deu uma melhorada, não foi? Continue rodando a célula acima e veja se o modelo aprende!\n",
        "\n",
        "**OBS:** se os valored de *w* e *b* começarem a variar muito pouco, ou sejá, o modelo não consegue ficar melhor, dizemos que ele **convergiu**."
      ]
    },
    {
      "cell_type": "markdown",
      "metadata": {
        "id": "BieCKQl13uM5"
      },
      "source": [
        "# Parabéns! Você implementou seu primeiro modelo linear!\n",
        "\n",
        "Mas não se preocupe, provavelmente você não vai precisar implementar de novo.\n",
        "\n",
        "O Scikit Learn que traz consigo diversos modelos, métodos e funções auxiliares já implementadas."
      ]
    },
    {
      "cell_type": "code",
      "metadata": {
        "id": "hLlnobvp39M8"
      },
      "source": [
        "from sklearn.linear_model import LinearRegression\n",
        "from sklearn.metrics import mean_squared_error"
      ],
      "execution_count": 7,
      "outputs": []
    },
    {
      "cell_type": "markdown",
      "metadata": {
        "id": "8E9itetk4GZH"
      },
      "source": [
        "Olha como é fácil criar um modelo de Regressão Linear:"
      ]
    },
    {
      "cell_type": "code",
      "metadata": {
        "id": "uA5weq4I4KOv"
      },
      "source": [
        "model = LinearRegression()"
      ],
      "execution_count": 8,
      "outputs": []
    },
    {
      "cell_type": "markdown",
      "metadata": {
        "id": "Xix9yYZg4MWh"
      },
      "source": [
        "Olha como é ainda mais fácil treinar esse modelo!"
      ]
    },
    {
      "cell_type": "code",
      "metadata": {
        "colab": {
          "base_uri": "https://localhost:8080/"
        },
        "id": "NRRVVsrc4PHx",
        "outputId": "7c1019c1-9ecf-4e7f-c3b4-c68b781a2c7c"
      },
      "source": [
        "model.fit(H, P)"
      ],
      "execution_count": 9,
      "outputs": [
        {
          "output_type": "execute_result",
          "data": {
            "text/plain": [
              "LinearRegression(copy_X=True, fit_intercept=True, n_jobs=None, normalize=False)"
            ]
          },
          "metadata": {
            "tags": []
          },
          "execution_count": 9
        }
      ]
    },
    {
      "cell_type": "markdown",
      "metadata": {
        "id": "xBQ3AuPu4Rb6"
      },
      "source": [
        "Vamos ver como que fica?"
      ]
    },
    {
      "cell_type": "code",
      "metadata": {
        "colab": {
          "base_uri": "https://localhost:8080/",
          "height": 286
        },
        "id": "QO-Jb08Z4RAD",
        "outputId": "5a42cd9c-ca79-46cc-9afd-64fa9ad32e37"
      },
      "source": [
        "y_predicted = model.predict(H)\n",
        "plt.scatter(H[:, 0], P)\n",
        "plt.plot(np.array(H[:, 0]), y_predicted, c='r')\n",
        "plt.xlim((20, 120))\n",
        "plt.ylim((0, 500000))\n",
        "plt.grid()\n",
        "\n",
        "error = np.sqrt(mean_squared_error(P, y_predicted))\n",
        "print(\"Mean Error: {}\".format(error))"
      ],
      "execution_count": 10,
      "outputs": [
        {
          "output_type": "stream",
          "text": [
            "Mean Error: 10539.347432900066\n"
          ],
          "name": "stdout"
        },
        {
          "output_type": "display_data",
          "data": {
            "image/png": "[encoded data removed]",
            "text/plain": [
              "<Figure size 432x288 with 1 Axes>"
            ]
          },
          "metadata": {
            "tags": [],
            "needs_background": "light"
          }
        }
      ]
    },
    {
      "cell_type": "markdown",
      "metadata": {
        "id": "ZC4NXugl4waR"
      },
      "source": [
        "Legal, não é?"
      ]
    }
  ]
}