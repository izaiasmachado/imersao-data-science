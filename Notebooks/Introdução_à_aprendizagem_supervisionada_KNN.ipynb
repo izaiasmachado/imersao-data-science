{
  "nbformat": 4,
  "nbformat_minor": 0,
  "metadata": {
    "colab": {
      "name": "Introdução à aprendizagem supervisionada - KNN.ipynb",
      "provenance": []
    },
    "kernelspec": {
      "name": "python3",
      "display_name": "Python 3"
    }
  },
  "cells": [
    {
      "cell_type": "markdown",
      "metadata": {
        "id": "7U3-LppeFbYj"
      },
      "source": [
        "# Introdução à Aprendizgem Supervisionada\n",
        "\n",
        "---\n",
        "\n",
        "Esse tipo de aprendizagem é provavelmente o mais comum, tanto na academia quanto no mercado. Ele consiste em utilizar os dados e informações já existentes para aprender que essa informação é obtida apartir dos dados.\n",
        "\n",
        "Para começar, vamos supor o seguinte conjunto de dados."
      ]
    },
    {
      "cell_type": "code",
      "metadata": {
        "id": "oKrrVi2FFWwe",
        "colab": {
          "base_uri": "https://localhost:8080/",
          "height": 265
        },
        "outputId": "08467919-6fa3-448e-b40b-bcf60cefd7f2"
      },
      "source": [
        "%matplotlib inline\n",
        "import matplotlib.pyplot as plt\n",
        "import numpy as np\n",
        "\n",
        "X =np.array([[2.7810836, 2.550537],\n",
        "             [1.46548937, 2.36212508],\n",
        "             [3.39656169, 4.40029353],\n",
        "             [1.38807019, 1.85022032],\n",
        "             [3.06407232, 3.00530597],\n",
        "             [7.62753121, 2.75926224],\n",
        "             [5.33244125, 2.08862677],\n",
        "             [6.92259672, 1.77106367],\n",
        "             [8.67541865, -0.24206865],\n",
        "             [7.67375647, 3.50856301]])\n",
        "\n",
        "Y = np.array(['b', 'b', 'b', 'b', 'b', 'r', 'r', 'r', 'r', 'r'])\n",
        "\n",
        "plt.scatter(X[:, 0], X[:, 1], c=Y)\n",
        "plt.grid()"
      ],
      "execution_count": null,
      "outputs": [
        {
          "output_type": "display_data",
          "data": {
            "image/png": "[encoded data removed]",
            "text/plain": [
              "<Figure size 432x288 with 1 Axes>"
            ]
          },
          "metadata": {
            "tags": [],
            "needs_background": "light"
          }
        }
      ]
    },
    {
      "cell_type": "markdown",
      "metadata": {
        "id": "pBWARcS1KBFy"
      },
      "source": [
        "Suponha também que agora temos um novo dado (o qual está em preto na forma de um losângulo)."
      ]
    },
    {
      "cell_type": "code",
      "metadata": {
        "colab": {
          "base_uri": "https://localhost:8080/",
          "height": 265
        },
        "id": "EaeSdsGTKIz3",
        "outputId": "fef5ebec-9df3-40e7-9343-7e02e2a2961b"
      },
      "source": [
        "p_x = np.array([[4.2, 2]])\n",
        "plt.scatter(X[:, 0], X[:, 1], c=Y)\n",
        "plt.scatter(p_x[:, 0], p_x[:, 1], c='k', marker='d')\n",
        "plt.grid()"
      ],
      "execution_count": null,
      "outputs": [
        {
          "output_type": "display_data",
          "data": {
            "image/png": "[encoded data removed]",
            "text/plain": [
              "<Figure size 432x288 with 1 Axes>"
            ]
          },
          "metadata": {
            "tags": [],
            "needs_background": "light"
          }
        }
      ]
    },
    {
      "cell_type": "markdown",
      "metadata": {
        "id": "KeT_DzS6KfU-"
      },
      "source": [
        "A qual grupo pertence esse novo elemento? Azuis ou vermelhos?\n",
        "\n",
        "Como que tomamos essa decisão?\n",
        "\n",
        "Só tem um jeito de descobrir?"
      ]
    },
    {
      "cell_type": "markdown",
      "metadata": {
        "id": "DWDuUwpxKpu2"
      },
      "source": [
        "*\"Diga-me com quem tu andas que eu direi quem tu és\"*\n",
        "\n",
        "Esse é o princípio mais intuitivo quando falamos sobre classificar dados. É natural à mente humana querer categorizar algo a partir de seus próximos. Sendo assim, nada mais justo do que utilizar essa filosofia como método de aprendizagem!\n",
        "\n",
        "Esse método é chamado de **K-Nearest-Neighbors** (ou *KNN*, para os mais chegados). Ele é bem simples: um elemento pertence a classe dos elementos mais próximos a ele. Pronto. Fim.\n",
        "\n",
        "Vamos identificar quem é o vizinho mais próximo de nosso novo ponto."
      ]
    },
    {
      "cell_type": "code",
      "metadata": {
        "colab": {
          "base_uri": "https://localhost:8080/",
          "height": 343
        },
        "id": "MUtbX_KoLSx7",
        "outputId": "a1778ec0-d1df-4b42-e6e2-53eec9a11ca7"
      },
      "source": [
        "import pandas as pd\n",
        "\n",
        "def dist_euclidiana(data, p):\n",
        "  x = (data - p) ** 2\n",
        "  return np.sqrt(np.sum(x, axis=1))\n",
        "\n",
        "df = pd.DataFrame(data=X)\n",
        "df['color'] = Y\n",
        "df['dist_euc'] = dist_euclidiana(X, p_x)\n",
        "df = df.sort_values(by='dist_euc')\n",
        "df"
      ],
      "execution_count": null,
      "outputs": [
        {
          "output_type": "execute_result",
          "data": {
            "text/html": [
              "<div>\n",
              "<style scoped>\n",
              "    .dataframe tbody tr th:only-of-type {\n",
              "        vertical-align: middle;\n",
              "    }\n",
              "\n",
              "    .dataframe tbody tr th {\n",
              "        vertical-align: top;\n",
              "    }\n",
              "\n",
              "    .dataframe thead th {\n",
              "        text-align: right;\n",
              "    }\n",
              "</style>\n",
              "<table border=\"1\" class=\"dataframe\">\n",
              "  <thead>\n",
              "    <tr style=\"text-align: right;\">\n",
              "      <th></th>\n",
              "      <th>0</th>\n",
              "      <th>1</th>\n",
              "      <th>color</th>\n",
              "      <th>dist_euc</th>\n",
              "    </tr>\n",
              "  </thead>\n",
              "  <tbody>\n",
              "    <tr>\n",
              "      <th>6</th>\n",
              "      <td>5.332441</td>\n",
              "      <td>2.088627</td>\n",
              "      <td>r</td>\n",
              "      <td>1.135904</td>\n",
              "    </tr>\n",
              "    <tr>\n",
              "      <th>4</th>\n",
              "      <td>3.064072</td>\n",
              "      <td>3.005306</td>\n",
              "      <td>b</td>\n",
              "      <td>1.516895</td>\n",
              "    </tr>\n",
              "    <tr>\n",
              "      <th>0</th>\n",
              "      <td>2.781084</td>\n",
              "      <td>2.550537</td>\n",
              "      <td>b</td>\n",
              "      <td>1.521977</td>\n",
              "    </tr>\n",
              "    <tr>\n",
              "      <th>2</th>\n",
              "      <td>3.396562</td>\n",
              "      <td>4.400294</td>\n",
              "      <td>b</td>\n",
              "      <td>2.531190</td>\n",
              "    </tr>\n",
              "    <tr>\n",
              "      <th>7</th>\n",
              "      <td>6.922597</td>\n",
              "      <td>1.771064</td>\n",
              "      <td>r</td>\n",
              "      <td>2.732205</td>\n",
              "    </tr>\n",
              "    <tr>\n",
              "      <th>1</th>\n",
              "      <td>1.465489</td>\n",
              "      <td>2.362125</td>\n",
              "      <td>b</td>\n",
              "      <td>2.758384</td>\n",
              "    </tr>\n",
              "    <tr>\n",
              "      <th>3</th>\n",
              "      <td>1.388070</td>\n",
              "      <td>1.850220</td>\n",
              "      <td>b</td>\n",
              "      <td>2.815916</td>\n",
              "    </tr>\n",
              "    <tr>\n",
              "      <th>5</th>\n",
              "      <td>7.627531</td>\n",
              "      <td>2.759262</td>\n",
              "      <td>r</td>\n",
              "      <td>3.510620</td>\n",
              "    </tr>\n",
              "    <tr>\n",
              "      <th>9</th>\n",
              "      <td>7.673756</td>\n",
              "      <td>3.508563</td>\n",
              "      <td>r</td>\n",
              "      <td>3.787182</td>\n",
              "    </tr>\n",
              "    <tr>\n",
              "      <th>8</th>\n",
              "      <td>8.675419</td>\n",
              "      <td>-0.242069</td>\n",
              "      <td>r</td>\n",
              "      <td>5.005621</td>\n",
              "    </tr>\n",
              "  </tbody>\n",
              "</table>\n",
              "</div>"
            ],
            "text/plain": [
              "          0         1 color  dist_euc\n",
              "6  5.332441  2.088627     r  1.135904\n",
              "4  3.064072  3.005306     b  1.516895\n",
              "0  2.781084  2.550537     b  1.521977\n",
              "2  3.396562  4.400294     b  2.531190\n",
              "7  6.922597  1.771064     r  2.732205\n",
              "1  1.465489  2.362125     b  2.758384\n",
              "3  1.388070  1.850220     b  2.815916\n",
              "5  7.627531  2.759262     r  3.510620\n",
              "9  7.673756  3.508563     r  3.787182\n",
              "8  8.675419 -0.242069     r  5.005621"
            ]
          },
          "metadata": {
            "tags": []
          },
          "execution_count": 16
        }
      ]
    },
    {
      "cell_type": "code",
      "metadata": {
        "colab": {
          "base_uri": "https://localhost:8080/",
          "height": 282
        },
        "id": "AVhGh6UKL6s3",
        "outputId": "308e1999-3371-42f3-8465-bc23f675d08e"
      },
      "source": [
        "plt.scatter(X[:, 0], X[:, 1], c=Y)\n",
        "plt.scatter(p_x[:, 0], p_x[:, 1], c='k', marker='d')\n",
        "plt.grid()\n",
        "plt.gcf().gca().add_artist(plt.Circle((p_x[0, 0], p_x[0, 1]), 1.2, fill=False))"
      ],
      "execution_count": null,
      "outputs": [
        {
          "output_type": "execute_result",
          "data": {
            "text/plain": [
              "<matplotlib.patches.Circle at 0x7f4c6a727278>"
            ]
          },
          "metadata": {
            "tags": []
          },
          "execution_count": 17
        },
        {
          "output_type": "display_data",
          "data": {
            "image/png": "[encoded data removed]",
            "text/plain": [
              "<Figure size 432x288 with 1 Axes>"
            ]
          },
          "metadata": {
            "tags": [],
            "needs_background": "light"
          }
        }
      ]
    },
    {
      "cell_type": "markdown",
      "metadata": {
        "id": "Qnns_L_NMcxe"
      },
      "source": [
        "Na imagem acima, analisamos os elementos mais próximos. Ambos são roxos. Logo, podemos dizer que o novo dados será roxo! Super simples!\n",
        "\n",
        "Experimente agora aumentar o número de vizinhos para, digamos, analizar os 3 mais próximos. O que acontece?"
      ]
    },
    {
      "cell_type": "code",
      "metadata": {
        "colab": {
          "base_uri": "https://localhost:8080/",
          "height": 282
        },
        "id": "nNzq82HbMtFZ",
        "outputId": "4a2352c3-dedf-46a3-a6ee-a8d98a3cb044"
      },
      "source": [
        "plt.scatter(X[:, 0], X[:, 1], c=Y)\n",
        "plt.scatter(p_x[:, 0], p_x[:, 1], c='k', marker='d')\n",
        "plt.grid()\n",
        "plt.gcf().gca().add_artist(plt.Circle((p_x[0, 0], p_x[0, 1]), 1.7, fill=False))"
      ],
      "execution_count": null,
      "outputs": [
        {
          "output_type": "execute_result",
          "data": {
            "text/plain": [
              "<matplotlib.patches.Circle at 0x7f4c6a70e828>"
            ]
          },
          "metadata": {
            "tags": []
          },
          "execution_count": 18
        },
        {
          "output_type": "display_data",
          "data": {
            "image/png": "[encoded data removed]",
            "text/plain": [
              "<Figure size 432x288 with 1 Axes>"
            ]
          },
          "metadata": {
            "tags": [],
            "needs_background": "light"
          }
        }
      ]
    },
    {
      "cell_type": "markdown",
      "metadata": {
        "id": "seO8a713M1uN"
      },
      "source": [
        "## Legal, mas só posso usar o **KNN** para classificar os elementos? E se quisesse, digamos, estimar preços de casas?\n",
        "\n",
        "Bom, vamos ver se dá certo! Imagine que temos o seguinte conjunto de casas, onde temos a área (em m^2) e o preço de cada uma delas: "
      ]
    },
    {
      "cell_type": "code",
      "metadata": {
        "colab": {
          "base_uri": "https://localhost:8080/",
          "height": 265
        },
        "id": "-bs6Vhz4NJqR",
        "outputId": "d740204d-bf3b-4551-e8d7-ec7a489d1ee5"
      },
      "source": [
        "H = np.array([[100],\n",
        "  [110],\n",
        "  [50],\n",
        "  [70],\n",
        "  [80],\n",
        "  [40],\n",
        "  [100],\n",
        "  [55],\n",
        "  [75],\n",
        "  [82]             \n",
        "])\n",
        "\n",
        "P = np.array([400000, 410000, 240000, 300000, 310000, 220000, 390000, 280000, 320000, 330000])\n",
        "plt.scatter(H[:, 0], P)\n",
        "plt.grid()"
      ],
      "execution_count": null,
      "outputs": [
        {
          "output_type": "display_data",
          "data": {
            "image/png": "[encoded data removed]",
            "text/plain": [
              "<Figure size 432x288 with 1 Axes>"
            ]
          },
          "metadata": {
            "tags": [],
            "needs_background": "light"
          }
        }
      ]
    },
    {
      "cell_type": "code",
      "metadata": {
        "colab": {
          "base_uri": "https://localhost:8080/",
          "height": 265
        },
        "id": "haBvrdlKNLS2",
        "outputId": "1b0a9910-7bfd-4f81-aca2-996fce56e970"
      },
      "source": [
        "a = 65\n",
        "plt.scatter(H[:, 0], P)\n",
        "plt.axvline(x=a, c='r')\n",
        "plt.grid()"
      ],
      "execution_count": null,
      "outputs": [
        {
          "output_type": "display_data",
          "data": {
            "image/png": "[encoded data removed]",
            "text/plain": [
              "<Figure size 432x288 with 1 Axes>"
            ]
          },
          "metadata": {
            "tags": [],
            "needs_background": "light"
          }
        }
      ]
    },
    {
      "cell_type": "code",
      "metadata": {
        "colab": {
          "base_uri": "https://localhost:8080/",
          "height": 343
        },
        "id": "O7uaq4b9Nv5c",
        "outputId": "662930df-b5c7-45e6-efbf-ab82c42883bb"
      },
      "source": [
        "df = pd.DataFrame(data=H)\n",
        "df['price'] = P\n",
        "df['dist'] = np.abs(H[:, 0] - a)\n",
        "df = df.sort_values(by='dist')\n",
        "df"
      ],
      "execution_count": null,
      "outputs": [
        {
          "output_type": "execute_result",
          "data": {
            "text/html": [
              "<div>\n",
              "<style scoped>\n",
              "    .dataframe tbody tr th:only-of-type {\n",
              "        vertical-align: middle;\n",
              "    }\n",
              "\n",
              "    .dataframe tbody tr th {\n",
              "        vertical-align: top;\n",
              "    }\n",
              "\n",
              "    .dataframe thead th {\n",
              "        text-align: right;\n",
              "    }\n",
              "</style>\n",
              "<table border=\"1\" class=\"dataframe\">\n",
              "  <thead>\n",
              "    <tr style=\"text-align: right;\">\n",
              "      <th></th>\n",
              "      <th>0</th>\n",
              "      <th>price</th>\n",
              "      <th>dist</th>\n",
              "    </tr>\n",
              "  </thead>\n",
              "  <tbody>\n",
              "    <tr>\n",
              "      <th>3</th>\n",
              "      <td>70</td>\n",
              "      <td>300000</td>\n",
              "      <td>5</td>\n",
              "    </tr>\n",
              "    <tr>\n",
              "      <th>7</th>\n",
              "      <td>55</td>\n",
              "      <td>280000</td>\n",
              "      <td>10</td>\n",
              "    </tr>\n",
              "    <tr>\n",
              "      <th>8</th>\n",
              "      <td>75</td>\n",
              "      <td>320000</td>\n",
              "      <td>10</td>\n",
              "    </tr>\n",
              "    <tr>\n",
              "      <th>2</th>\n",
              "      <td>50</td>\n",
              "      <td>240000</td>\n",
              "      <td>15</td>\n",
              "    </tr>\n",
              "    <tr>\n",
              "      <th>4</th>\n",
              "      <td>80</td>\n",
              "      <td>310000</td>\n",
              "      <td>15</td>\n",
              "    </tr>\n",
              "    <tr>\n",
              "      <th>9</th>\n",
              "      <td>82</td>\n",
              "      <td>330000</td>\n",
              "      <td>17</td>\n",
              "    </tr>\n",
              "    <tr>\n",
              "      <th>5</th>\n",
              "      <td>40</td>\n",
              "      <td>220000</td>\n",
              "      <td>25</td>\n",
              "    </tr>\n",
              "    <tr>\n",
              "      <th>0</th>\n",
              "      <td>100</td>\n",
              "      <td>400000</td>\n",
              "      <td>35</td>\n",
              "    </tr>\n",
              "    <tr>\n",
              "      <th>6</th>\n",
              "      <td>100</td>\n",
              "      <td>390000</td>\n",
              "      <td>35</td>\n",
              "    </tr>\n",
              "    <tr>\n",
              "      <th>1</th>\n",
              "      <td>110</td>\n",
              "      <td>410000</td>\n",
              "      <td>45</td>\n",
              "    </tr>\n",
              "  </tbody>\n",
              "</table>\n",
              "</div>"
            ],
            "text/plain": [
              "     0   price  dist\n",
              "3   70  300000     5\n",
              "7   55  280000    10\n",
              "8   75  320000    10\n",
              "2   50  240000    15\n",
              "4   80  310000    15\n",
              "9   82  330000    17\n",
              "5   40  220000    25\n",
              "0  100  400000    35\n",
              "6  100  390000    35\n",
              "1  110  410000    45"
            ]
          },
          "metadata": {
            "tags": []
          },
          "execution_count": 21
        }
      ]
    },
    {
      "cell_type": "markdown",
      "metadata": {
        "id": "tBEoNNzKN8JB"
      },
      "source": [
        "Então, o que podemos fazer? Podemos usar o *KNN* para estimar o preço da casa?"
      ]
    },
    {
      "cell_type": "code",
      "metadata": {
        "colab": {
          "base_uri": "https://localhost:8080/",
          "height": 265
        },
        "id": "w1G0BlObOBUv",
        "outputId": "7cf7626b-ebe2-453c-fe05-aa0e749b1b1c"
      },
      "source": [
        "a = 89\n",
        "\n",
        "df = pd.DataFrame(data=H)\n",
        "df['price'] = P\n",
        "df['dist'] = np.abs(H[:, 0] - a)\n",
        "df = df.sort_values(by='dist')\n",
        "\n",
        "p_mean = np.mean(df['price'].values[0:5])\n",
        "p_median = np.median(df['price'].values[0:5])\n",
        "\n",
        "plt.scatter(H[:, 0], P)\n",
        "plt.scatter([a], [p_mean], c='r')\n",
        "plt.scatter([a], [p_median], c='g')\n",
        "plt.grid()"
      ],
      "execution_count": null,
      "outputs": [
        {
          "output_type": "display_data",
          "data": {
            "image/png": "[encoded data removed]",
            "text/plain": [
              "<Figure size 432x288 with 1 Axes>"
            ]
          },
          "metadata": {
            "tags": [],
            "needs_background": "light"
          }
        }
      ]
    },
    {
      "cell_type": "markdown",
      "metadata": {
        "id": "XlxjxILNOhar"
      },
      "source": [
        "# Tá, você me convenceu, *KNN* é legal. Mas implementar isso deve ser chato...\n",
        "\n",
        "Fazer queijo também dá trabalho, mas você não deixa de comer, certo? O que você faz? Pega um pronto!\n",
        "\n",
        "Existe uma biblioteca em Python chamada Scikit-Learn que já traz isso tudo implementado. Para esses exemplos, precisamos importar apenas 2 módulo."
      ]
    },
    {
      "cell_type": "code",
      "metadata": {
        "id": "SRLcLLfDO2NK"
      },
      "source": [
        "from sklearn.neighbors import KNeighborsClassifier\n",
        "from sklearn.neighbors import KNeighborsRegressor"
      ],
      "execution_count": null,
      "outputs": []
    },
    {
      "cell_type": "markdown",
      "metadata": {
        "id": "LeSktLTXPHwu"
      },
      "source": [
        "Agora, é só seguir 3 passos:\n",
        "- Criar o modelo desejado, informando o número de vizinhos a serem consultados.\n",
        "- Ajustar seu modelo, mandando os dados que você já tem *(fit)*.\n",
        "- Estimular o valor do novo dado utilizando o modelo treinado *(predict)*."
      ]
    },
    {
      "cell_type": "code",
      "metadata": {
        "colab": {
          "base_uri": "https://localhost:8080/"
        },
        "id": "9pOvLWE-PWjU",
        "outputId": "421a033a-678f-4e86-b60b-2b62a71dfb23"
      },
      "source": [
        "model = KNeighborsClassifier(n_neighbors=3)\n",
        "model.fit(X, Y)\n",
        "print(\"Que cor deve ser pintado o elemento localizado na coordenada ({} {})? {}\".\\\n",
        "      format(p_x[0, 0], p_x[0, 1], model.predict(p_x)[0]))"
      ],
      "execution_count": null,
      "outputs": [
        {
          "output_type": "stream",
          "text": [
            "Que cor deve ser pintado o elemento localizado na coordenada (4.2 2.0)? b\n"
          ],
          "name": "stdout"
        }
      ]
    },
    {
      "cell_type": "code",
      "metadata": {
        "colab": {
          "base_uri": "https://localhost:8080/"
        },
        "id": "7AS7bbkePqHB",
        "outputId": "1f20125c-18e1-475f-b33e-3c4a75e4f026"
      },
      "source": [
        "model = KNeighborsRegressor(n_neighbors=3)\n",
        "model.fit(H, P)\n",
        "\n",
        "print(\"Qual o preço da casa de área {} m^2? {}\".\\\n",
        "      format(a, model.predict([[a]])[0]))"
      ],
      "execution_count": null,
      "outputs": [
        {
          "output_type": "stream",
          "text": [
            "Qual o preço da casa de área 89 m^2? 346666.6666666667\n"
          ],
          "name": "stdout"
        }
      ]
    },
    {
      "cell_type": "markdown",
      "metadata": {
        "id": "jYIbJ0AuQd1g"
      },
      "source": [
        "# Alguns questionamentos interessantes:\n",
        "\n",
        "- Que valores de *k* devemos usar? Grandes? Pequenos? Médios?\n",
        "- É uma boa ideia utilizar como *k* o número total de dados?\n",
        "- Capitu traiu Bentinho?"
      ]
    },
    {
      "cell_type": "code",
      "metadata": {
        "colab": {
          "base_uri": "https://localhost:8080/"
        },
        "id": "iwskesIDQpuX",
        "outputId": "28b9939e-5e54-4173-bb6c-0f211a0c8e12"
      },
      "source": [
        "from sklearn.neighbors import NearestCentroid\n",
        "model = NearestCentroid()\n",
        "model.fit(X, Y)\n",
        "print(\"Que cor deve ser pintado o elemento localizado na coordenada ({}, {})? {}\".\\\n",
        "      format(p_x[0, 0], p_x[0, 1], model.predict(p_x)[0]))"
      ],
      "execution_count": null,
      "outputs": [
        {
          "output_type": "stream",
          "text": [
            "Que cor deve ser pintado o elemento localizado na coordenada (4.2, 2.0)? b\n"
          ],
          "name": "stdout"
        }
      ]
    }
  ]
}