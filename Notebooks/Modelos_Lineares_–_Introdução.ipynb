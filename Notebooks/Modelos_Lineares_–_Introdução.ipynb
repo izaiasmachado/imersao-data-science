{
  "nbformat": 4,
  "nbformat_minor": 0,
  "metadata": {
    "colab": {
      "name": "Modelos Lineares – Introdução.ipynb",
      "provenance": []
    },
    "kernelspec": {
      "name": "python3",
      "display_name": "Python 3"
    }
  },
  "cells": [
    {
      "cell_type": "markdown",
      "metadata": {
        "id": "3IawZhleGRrx"
      },
      "source": [
        "# Modelos Lineares\n",
        "\n",
        "---\n",
        "\n",
        "Agora o papo é reto!\n",
        "Imagine que temos novamente um conjunto de dados de casas e seus preços, conforme apresentado abaixo:"
      ]
    },
    {
      "cell_type": "code",
      "metadata": {
        "colab": {
          "base_uri": "https://localhost:8080/",
          "height": 265
        },
        "id": "wI-WhdycF8D-",
        "outputId": "f328b2f7-e5b4-4ccf-f065-e50c964b78cc"
      },
      "source": [
        "%matplotlib inline\n",
        "import matplotlib.pyplot as plt\n",
        "import numpy as np\n",
        "\n",
        "H = np.array([[100],\n",
        "  [110],\n",
        "  [50],\n",
        "  [70],\n",
        "  [80],\n",
        "  [40],\n",
        "  [100],\n",
        "  [55],\n",
        "  [75],\n",
        "  [82]             \n",
        "])\n",
        "\n",
        "P = np.array([400000, 410000, 240000, 300000, 310000, 220000, 390000, 280000, 320000, 330000])\n",
        "\n",
        "plt.scatter(H[:, 0], P)\n",
        "plt.grid()"
      ],
      "execution_count": 1,
      "outputs": [
        {
          "output_type": "display_data",
          "data": {
            "image/png": "[encoded data removed]",
            "text/plain": [
              "<Figure size 432x288 with 1 Axes>"
            ]
          },
          "metadata": {
            "tags": [],
            "needs_background": "light"
          }
        }
      ]
    },
    {
      "cell_type": "markdown",
      "metadata": {
        "id": "-cisSJegGg7A"
      },
      "source": [
        "Quando usamos o *KNN*, estimamos o preço de amostra a partir de suas \"vizinhanças\". Mas, venhamos e convenhamos, deve existir uma maneira mais simples de fazer isso, certo? Por exemplo: olhe o gŕafico acima e veja que forma parece está se formando. Posso não entender de alinhamentos planetários, mas uma coisa posso dizer: esses dados lembram uma reta.\n",
        "\n",
        "Podemos definir uma reta que passa pela origem (ponto (0,0)) e definir o ângulo dela, por exemplo. Vamos tentar!"
      ]
    },
    {
      "cell_type": "code",
      "metadata": {
        "colab": {
          "base_uri": "https://localhost:8080/",
          "height": 269
        },
        "id": "ftrRGWIhHFc2",
        "outputId": "8637bc6a-acee-45ff-c2cd-26434df0ecc6"
      },
      "source": [
        "from math import sin, cos, radians\n",
        "theta = radians(60)\n",
        "linelength = 200\n",
        "x = linelength * cos(theta)\n",
        "y = linelength * sin(theta) * 3000\n",
        "plt.scatter(H[:, 0], P)\n",
        "plt.plot(np.array([0, x]), np.array([0, y]), c='r')\n",
        "plt.xlim((20, 120))\n",
        "plt.ylim((0, 500000))\n",
        "plt.grid()"
      ],
      "execution_count": 2,
      "outputs": [
        {
          "output_type": "display_data",
          "data": {
            "image/png": "[encoded data removed]",
            "text/plain": [
              "<Figure size 432x288 with 1 Axes>"
            ]
          },
          "metadata": {
            "tags": [],
            "needs_background": "light"
          }
        }
      ]
    },
    {
      "cell_type": "markdown",
      "metadata": {
        "id": "k7CQI4hZHii_"
      },
      "source": [
        "É, não ficou muito legal. Mas já é um começo!\n",
        "\n",
        "Que outra maneira podemos definir uma reta?\n",
        "\n",
        "- **Passando uma régua?**\n",
        "  \n",
        "  Bom, fica difícil passar uma régua no monitor, certo?\n",
        "\n",
        "- **Escolhendo um ponto e traçar uma reta entre ele e a origem?**\n",
        "\n",
        "  Tá, mas qual ponto?\n",
        "\n",
        "- **Definir uma função?**\n",
        "  Opa, parece um plano (ou uma reta, nesse caso)... Vamos ver no que dá!"
      ]
    },
    {
      "cell_type": "code",
      "metadata": {
        "colab": {
          "base_uri": "https://localhost:8080/",
          "height": 269
        },
        "id": "kI7s_sOmH_b7",
        "outputId": "922a4447-ac7c-4917-ab51-1d5b2d755185"
      },
      "source": [
        "def f(x):\n",
        "  a = 1300\n",
        "  b = 200000\n",
        "  return a * x + b # f(x) = ax + b\n",
        "\n",
        "plt.scatter(H[:, 0], P)\n",
        "plt.plot(np.array(H[:, 0]), [f(x) for x in H[:, 0]], c='r')\n",
        "plt.xlim((20, 120))\n",
        "plt.ylim((0, 500000))\n",
        "plt.grid()"
      ],
      "execution_count": 8,
      "outputs": [
        {
          "output_type": "display_data",
          "data": {
            "image/png": "[encoded data removed]",
            "text/plain": [
              "<Figure size 432x288 with 1 Axes>"
            ]
          },
          "metadata": {
            "tags": [],
            "needs_background": "light"
          }
        }
      ]
    },
    {
      "cell_type": "markdown",
      "metadata": {
        "id": "y5wsk5pTIUXi"
      },
      "source": [
        "Não é que ficou interessante? Mas ficar procurando valores para *a* e *b* foi um pouco chato né? Seria tão legal se houvesse uma maneira automática de fazer isso... se pudéssemos fazer o computador *aprender* esses valores..."
      ]
    },
    {
      "cell_type": "markdown",
      "metadata": {
        "id": "2GP0yo9AInyF"
      },
      "source": [
        "# ClARO QUE TEM UMA MANEIRA, GENTE BOA!\n",
        "\n",
        "E é ai que entram os **Modelos Lineares**: modelos que tentam aproximar uma função *linear* que nos permitam *aprender* o comportamento dos dados, assumindo que o mesmo se comporte como uma **reta**.\n",
        "\n",
        "- Regressão Linear\n",
        "- Regressão Logística\n",
        "- Naive Bayes\n",
        "- *Support Vector Machine (SVM)*"
      ]
    }
  ]
}