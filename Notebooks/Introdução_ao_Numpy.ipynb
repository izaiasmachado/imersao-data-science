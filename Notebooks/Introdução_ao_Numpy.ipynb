{
  "nbformat": 4,
  "nbformat_minor": 0,
  "metadata": {
    "colab": {
      "name": "Introdução ao Numpy.ipynb",
      "provenance": [],
      "collapsed_sections": []
    },
    "kernelspec": {
      "name": "python3",
      "display_name": "Python 3"
    }
  },
  "cells": [
    {
      "cell_type": "code",
      "metadata": {
        "id": "IyCR73Rh1_XP"
      },
      "source": [
        "import numpy as np"
      ],
      "execution_count": null,
      "outputs": []
    },
    {
      "cell_type": "code",
      "metadata": {
        "id": "PkPHMiRx2XEs"
      },
      "source": [
        "vetor_np = np.arange(1000000)\n",
        "lista = list(range(1000000))"
      ],
      "execution_count": null,
      "outputs": []
    },
    {
      "cell_type": "code",
      "metadata": {
        "colab": {
          "base_uri": "https://localhost:8080/"
        },
        "id": "9lqQhI1A2XTf",
        "outputId": "332dccf1-ba2c-4bde-a652-edcbef75ac8a"
      },
      "source": [
        "%time for _ in range(1000): vetor_np2 = vetor_np * 2"
      ],
      "execution_count": null,
      "outputs": [
        {
          "output_type": "stream",
          "text": [
            "CPU times: user 1.03 s, sys: 37.4 ms, total: 1.07 s\n",
            "Wall time: 1.08 s\n"
          ],
          "name": "stdout"
        }
      ]
    },
    {
      "cell_type": "code",
      "metadata": {
        "colab": {
          "base_uri": "https://localhost:8080/"
        },
        "id": "b-zK-0_r2XmP",
        "outputId": "7ade8bf8-3eff-4957-defd-e57f4f21208c"
      },
      "source": [
        "%time for _ in range(1000): lista2 = [x * 2 for x in lista]"
      ],
      "execution_count": null,
      "outputs": [
        {
          "output_type": "stream",
          "text": [
            "CPU times: user 53.5 s, sys: 1.82 s, total: 55.3 s\n",
            "Wall time: 55.6 s\n"
          ],
          "name": "stdout"
        }
      ]
    },
    {
      "cell_type": "code",
      "metadata": {
        "id": "S9i8yHKr2Xzl"
      },
      "source": [
        "import numpy as np\n",
        "\n",
        "data = np.random.randn(2, 3)"
      ],
      "execution_count": null,
      "outputs": []
    },
    {
      "cell_type": "code",
      "metadata": {
        "colab": {
          "base_uri": "https://localhost:8080/"
        },
        "id": "g1viy3WE2YDz",
        "outputId": "621246d8-53c2-4e20-86b1-952f42341fee"
      },
      "source": [
        "data * 10"
      ],
      "execution_count": null,
      "outputs": [
        {
          "output_type": "execute_result",
          "data": {
            "text/plain": [
              "array([[ 9.17751453, -7.79390653,  8.51234204],\n",
              "       [-5.69868561, 10.75337802,  6.67967904]])"
            ]
          },
          "metadata": {
            "tags": []
          },
          "execution_count": 7
        }
      ]
    },
    {
      "cell_type": "code",
      "metadata": {
        "colab": {
          "base_uri": "https://localhost:8080/"
        },
        "id": "slHyAhEF2YSK",
        "outputId": "996c0872-3287-4777-e3d7-43cd588b071b"
      },
      "source": [
        "data + data"
      ],
      "execution_count": null,
      "outputs": [
        {
          "output_type": "execute_result",
          "data": {
            "text/plain": [
              "array([[ 1.83550291, -1.55878131,  1.70246841],\n",
              "       [-1.13973712,  2.1506756 ,  1.33593581]])"
            ]
          },
          "metadata": {
            "tags": []
          },
          "execution_count": 8
        }
      ]
    },
    {
      "cell_type": "markdown",
      "metadata": {
        "id": "JYGe6wUb2Ysq"
      },
      "source": [
        "# Como criar `ndarrays`?\n",
        "Forma mais fácil: sequências do Python"
      ]
    },
    {
      "cell_type": "code",
      "metadata": {
        "colab": {
          "base_uri": "https://localhost:8080/"
        },
        "id": "AtUaaBWU2ekx",
        "outputId": "c2d8f3fc-0983-44bf-bbc6-a717ff2ac29a"
      },
      "source": [
        "dados_exemplo = [1, 8.9, 0, 3.14, 9]\n",
        "\n",
        "numpy_array = np.array(dados_exemplo)\n",
        "numpy_array"
      ],
      "execution_count": null,
      "outputs": [
        {
          "output_type": "execute_result",
          "data": {
            "text/plain": [
              "array([1.  , 8.9 , 0.  , 3.14, 9.  ])"
            ]
          },
          "metadata": {
            "tags": []
          },
          "execution_count": 9
        }
      ]
    },
    {
      "cell_type": "markdown",
      "metadata": {
        "id": "VRnulqLo2e3M"
      },
      "source": [
        "Sequências aninhadas geram arrays multidimensionais."
      ]
    },
    {
      "cell_type": "code",
      "metadata": {
        "colab": {
          "base_uri": "https://localhost:8080/"
        },
        "id": "ccRLVSbf2juk",
        "outputId": "0ff4384c-81ca-4b1a-c99c-8af01ed21d1f"
      },
      "source": [
        "dados_exemplo2 = [[1, 2, 3, 4], [5, 6, 7, 8]]\n",
        "\n",
        "numpy_array2 = np.array(dados_exemplo2)\n",
        "numpy_array2"
      ],
      "execution_count": null,
      "outputs": [
        {
          "output_type": "execute_result",
          "data": {
            "text/plain": [
              "array([[1, 2, 3, 4],\n",
              "       [5, 6, 7, 8]])"
            ]
          },
          "metadata": {
            "tags": []
          },
          "execution_count": 10
        }
      ]
    },
    {
      "cell_type": "markdown",
      "metadata": {
        "id": "GQ0GcgK22lLB"
      },
      "source": [
        "Atributos importantes:\n",
        "- `ndim`\n",
        "- `shape`\n",
        "- `dtype`"
      ]
    },
    {
      "cell_type": "code",
      "metadata": {
        "colab": {
          "base_uri": "https://localhost:8080/"
        },
        "id": "n30VifBo2roR",
        "outputId": "62507592-72f2-45cb-cbc7-e47705bfcd57"
      },
      "source": [
        "print(numpy_array.ndim)\n",
        "print(numpy_array2.ndim)"
      ],
      "execution_count": null,
      "outputs": [
        {
          "output_type": "stream",
          "text": [
            "1\n",
            "2\n"
          ],
          "name": "stdout"
        }
      ]
    },
    {
      "cell_type": "code",
      "metadata": {
        "colab": {
          "base_uri": "https://localhost:8080/"
        },
        "id": "WX0aT2Kt2r26",
        "outputId": "a5534d6d-58e7-4f7a-da2e-f0e2d6148cf2"
      },
      "source": [
        "print(numpy_array.shape)\n",
        "print(numpy_array2.shape)"
      ],
      "execution_count": null,
      "outputs": [
        {
          "output_type": "stream",
          "text": [
            "(5,)\n",
            "(2, 4)\n"
          ],
          "name": "stdout"
        }
      ]
    },
    {
      "cell_type": "code",
      "metadata": {
        "colab": {
          "base_uri": "https://localhost:8080/"
        },
        "id": "3yU4tMK83WuH",
        "outputId": "1ab106aa-317e-4c08-d1d7-d41981bc9997"
      },
      "source": [
        "print(numpy_array.dtype)\n",
        "print(numpy_array2.dtype)"
      ],
      "execution_count": null,
      "outputs": [
        {
          "output_type": "stream",
          "text": [
            "float64\n",
            "int64\n"
          ],
          "name": "stdout"
        }
      ]
    },
    {
      "cell_type": "markdown",
      "metadata": {
        "id": "CV9HcfcZ3W6L"
      },
      "source": [
        "`astype`pode fazer o cast explícito de um tipo."
      ]
    },
    {
      "cell_type": "code",
      "metadata": {
        "colab": {
          "base_uri": "https://localhost:8080/"
        },
        "id": "5vXqS5WL3aJa",
        "outputId": "6cb9bfb1-6cfd-42ed-c840-2a0130cfbade"
      },
      "source": [
        "array = np.array([1, 2, 3, 4])\n",
        "print(array.dtype)\n",
        "\n",
        "float_array = array.astype(np.float64)\n",
        "print(float_array.dtype)"
      ],
      "execution_count": null,
      "outputs": [
        {
          "output_type": "stream",
          "text": [
            "int64\n",
            "float64\n"
          ],
          "name": "stdout"
        }
      ]
    },
    {
      "cell_type": "markdown",
      "metadata": {
        "id": "xfpebEtR3aqg"
      },
      "source": [
        "Outras formas de criar arrays Numpy:\n",
        "- `zeros`\n",
        "- `empty`\n",
        "- `arange`"
      ]
    },
    {
      "cell_type": "code",
      "metadata": {
        "colab": {
          "base_uri": "https://localhost:8080/"
        },
        "id": "8tmv7JBq3f6e",
        "outputId": "25be0d18-65b6-4a76-a01b-51a4e2bc1dbb"
      },
      "source": [
        "np.zeros(7)"
      ],
      "execution_count": null,
      "outputs": [
        {
          "output_type": "execute_result",
          "data": {
            "text/plain": [
              "array([0., 0., 0., 0., 0., 0., 0.])"
            ]
          },
          "metadata": {
            "tags": []
          },
          "execution_count": 17
        }
      ]
    },
    {
      "cell_type": "code",
      "metadata": {
        "colab": {
          "base_uri": "https://localhost:8080/"
        },
        "id": "Zyyr_7rA4H3x",
        "outputId": "a8e99400-d476-4af9-dadd-e775e2f09072"
      },
      "source": [
        "np.zeros((2, 7))"
      ],
      "execution_count": null,
      "outputs": [
        {
          "output_type": "execute_result",
          "data": {
            "text/plain": [
              "array([[0., 0., 0., 0., 0., 0., 0.],\n",
              "       [0., 0., 0., 0., 0., 0., 0.]])"
            ]
          },
          "metadata": {
            "tags": []
          },
          "execution_count": 19
        }
      ]
    },
    {
      "cell_type": "code",
      "metadata": {
        "colab": {
          "base_uri": "https://localhost:8080/"
        },
        "id": "Yybvs-Yr4ISs",
        "outputId": "474e929e-1e02-4eae-9d5d-02379479b514"
      },
      "source": [
        "np.empty((2, 2, 4))"
      ],
      "execution_count": null,
      "outputs": [
        {
          "output_type": "execute_result",
          "data": {
            "text/plain": [
              "array([[[2.43296580e-316, 1.03977794e-312, 1.01855798e-312,\n",
              "         9.54898106e-313],\n",
              "        [1.06099790e-312, 1.06099790e-312, 1.23075756e-312,\n",
              "         1.10343781e-312]],\n",
              "\n",
              "       [[1.01855798e-312, 9.76118064e-313, 1.14587773e-312,\n",
              "         1.10343781e-312],\n",
              "        [1.12465777e-312, 2.22809558e-312, 2.14321575e-312,\n",
              "         0.00000000e+000]]])"
            ]
          },
          "metadata": {
            "tags": []
          },
          "execution_count": 20
        }
      ]
    },
    {
      "cell_type": "code",
      "metadata": {
        "colab": {
          "base_uri": "https://localhost:8080/"
        },
        "id": "odaDbW4v4Ih0",
        "outputId": "751a3034-f17e-40fa-e07a-73ac780384fc"
      },
      "source": [
        "print(np.arange(9))       # Fim\n",
        "print(np.arange(5, 11))   # Início / Fim"
      ],
      "execution_count": null,
      "outputs": [
        {
          "output_type": "stream",
          "text": [
            "[0 1 2 3 4 5 6 7 8]\n",
            "[ 5  6  7  8  9 10]\n"
          ],
          "name": "stdout"
        }
      ]
    },
    {
      "cell_type": "markdown",
      "metadata": {
        "id": "ngnKRzuE4I1z"
      },
      "source": [
        "# Aritmética com Arrays Numpy"
      ]
    },
    {
      "cell_type": "code",
      "metadata": {
        "id": "2AE35BJx4MmE"
      },
      "source": [
        "array_1 = np.array([1, 2, 3, 4])\n",
        "array_2 = np.array([5, 6, 7, 8])"
      ],
      "execution_count": null,
      "outputs": []
    },
    {
      "cell_type": "code",
      "metadata": {
        "colab": {
          "base_uri": "https://localhost:8080/"
        },
        "id": "JE6LbIp-4MfB",
        "outputId": "7a02ebe1-06ac-4924-be12-dba3800e6b99"
      },
      "source": [
        "array_1 + array_2"
      ],
      "execution_count": null,
      "outputs": [
        {
          "output_type": "execute_result",
          "data": {
            "text/plain": [
              "array([ 6,  8, 10, 12])"
            ]
          },
          "metadata": {
            "tags": []
          },
          "execution_count": 25
        }
      ]
    },
    {
      "cell_type": "code",
      "metadata": {
        "colab": {
          "base_uri": "https://localhost:8080/"
        },
        "id": "ga8LhV7e4MOq",
        "outputId": "63de70ec-cf24-4693-ef31-e4a44ac09288"
      },
      "source": [
        "array_1 * array_2"
      ],
      "execution_count": null,
      "outputs": [
        {
          "output_type": "execute_result",
          "data": {
            "text/plain": [
              "array([ 5, 12, 21, 32])"
            ]
          },
          "metadata": {
            "tags": []
          },
          "execution_count": 26
        }
      ]
    },
    {
      "cell_type": "code",
      "metadata": {
        "colab": {
          "base_uri": "https://localhost:8080/"
        },
        "id": "fXsDAv8l4MCO",
        "outputId": "00fa50f2-14a5-439a-b2e1-8e63638add5a"
      },
      "source": [
        "array_2 ** 2"
      ],
      "execution_count": null,
      "outputs": [
        {
          "output_type": "execute_result",
          "data": {
            "text/plain": [
              "array([25, 36, 49, 64])"
            ]
          },
          "metadata": {
            "tags": []
          },
          "execution_count": 27
        }
      ]
    }
  ]
}